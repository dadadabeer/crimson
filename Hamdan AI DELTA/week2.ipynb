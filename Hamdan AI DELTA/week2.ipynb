{
 "cells": [
  {
   "cell_type": "code",
   "execution_count": 1,
   "metadata": {},
   "outputs": [
    {
     "name": "stdout",
     "output_type": "stream",
     "text": [
      "hello world\n"
     ]
    }
   ],
   "source": [
    "print(\"hello world\")"
   ]
  },
  {
   "cell_type": "code",
   "execution_count": 2,
   "metadata": {},
   "outputs": [],
   "source": [
    "number = input(\"Whats your number: \")\n"
   ]
  },
  {
   "cell_type": "code",
   "execution_count": 6,
   "metadata": {},
   "outputs": [
    {
     "data": {
      "text/plain": [
       "55"
      ]
     },
     "execution_count": 6,
     "metadata": {},
     "output_type": "execute_result"
    }
   ],
   "source": [
    "int(number)"
   ]
  },
  {
   "cell_type": "code",
   "execution_count": 5,
   "metadata": {},
   "outputs": [
    {
     "data": {
      "text/plain": [
       "str"
      ]
     },
     "execution_count": 5,
     "metadata": {},
     "output_type": "execute_result"
    }
   ],
   "source": [
    "type"
   ]
  },
  {
   "cell_type": "code",
   "execution_count": 7,
   "metadata": {},
   "outputs": [
    {
     "name": "stdout",
     "output_type": "stream",
     "text": [
      "Your number is greater than 50\n"
     ]
    }
   ],
   "source": [
    "if int(number) > 50:\n",
    "    print(\"Your number is greater than 50\")\n",
    "elif int(number) < 50:\n",
    "    print(\"Your number is lesser than 50\")\n",
    "else:\n",
    "    print(\"Your number is 50\")"
   ]
  },
  {
   "cell_type": "code",
   "execution_count": 9,
   "metadata": {},
   "outputs": [
    {
     "ename": "ValueError",
     "evalue": "invalid literal for int() with base 10: 'hello'",
     "output_type": "error",
     "traceback": [
      "\u001b[0;31m---------------------------------------------------------------------------\u001b[0m",
      "\u001b[0;31mValueError\u001b[0m                                Traceback (most recent call last)",
      "Cell \u001b[0;32mIn[9], line 1\u001b[0m\n\u001b[0;32m----> 1\u001b[0m \u001b[38;5;28;43mint\u001b[39;49m\u001b[43m(\u001b[49m\u001b[38;5;124;43m\"\u001b[39;49m\u001b[38;5;124;43mhello\u001b[39;49m\u001b[38;5;124;43m\"\u001b[39;49m\u001b[43m)\u001b[49m\n",
      "\u001b[0;31mValueError\u001b[0m: invalid literal for int() with base 10: 'hello'"
     ]
    }
   ],
   "source": [
    "int(\"hello\")"
   ]
  },
  {
   "cell_type": "code",
   "execution_count": 18,
   "metadata": {},
   "outputs": [
    {
     "name": "stdout",
     "output_type": "stream",
     "text": [
      "2\n",
      "4\n",
      "6\n",
      "8\n",
      "10\n"
     ]
    }
   ],
   "source": [
    "# print s numbers from 1 -10\n",
    "\n",
    "for i in range(2,11,2):\n",
    "    print(i)"
   ]
  },
  {
   "cell_type": "code",
   "execution_count": 26,
   "metadata": {},
   "outputs": [
    {
     "name": "stdout",
     "output_type": "stream",
     "text": [
      "100\n"
     ]
    }
   ],
   "source": [
    "#sum of odd numbers from 1-n,,,,,  \n",
    "total = 0\n",
    "\n",
    "n = int(input(\"number:? \"))\n",
    "\n",
    "for i in range(1,21,2):\n",
    "    total = total + i\n",
    "\n",
    "print(total)\n",
    "\n"
   ]
  },
  {
   "cell_type": "code",
   "execution_count": 21,
   "metadata": {},
   "outputs": [
    {
     "name": "stdout",
     "output_type": "stream",
     "text": [
      "28\n"
     ]
    }
   ],
   "source": [
    "#find the sum of odd numbers ffrom 1 to n\n",
    "\n",
    "n = int(input(\"Whats your number: \"))\n",
    "\n",
    "total = 0\n",
    "\n",
    "for i in range(n+1):\n",
    "    total = total + i\n",
    "\n",
    "print(total)"
   ]
  },
  {
   "cell_type": "code",
   "execution_count": 77,
   "metadata": {},
   "outputs": [
    {
     "data": {
      "text/plain": [
       "6633"
      ]
     },
     "execution_count": 77,
     "metadata": {},
     "output_type": "execute_result"
    }
   ],
   "source": [
    "#priny sum of numbers from 1-100, that are divisible by 3\n",
    "def divby3(n):\n",
    "    total = 0\n",
    "    for i in range(n+1):\n",
    "        if i%3 == 0:\n",
    "            total += i\n",
    "\n",
    "    return total\n",
    "\n",
    "divby3(200)\n",
    "\n"
   ]
  },
  {
   "cell_type": "code",
   "execution_count": 78,
   "metadata": {},
   "outputs": [
    {
     "data": {
      "text/plain": [
       "6638"
      ]
     },
     "execution_count": 78,
     "metadata": {},
     "output_type": "execute_result"
    }
   ],
   "source": [
    "5 + divby3(200)"
   ]
  },
  {
   "cell_type": "code",
   "execution_count": 38,
   "metadata": {},
   "outputs": [
    {
     "name": "stdout",
     "output_type": "stream",
     "text": [
      "8320987112741390144276341183223364380754172606361245952449277696409600000000000000\n"
     ]
    }
   ],
   "source": [
    "#factorial, using a for loop, find factorial of 7\n",
    "\n",
    "n = int(input(\"Whats your number: \"))\n",
    "total = 1\n",
    "\n",
    "for i in range(1, n+1):\n",
    "    total = total * i\n",
    "\n",
    "print(total)\n"
   ]
  },
  {
   "cell_type": "code",
   "execution_count": 48,
   "metadata": {},
   "outputs": [
    {
     "name": "stdout",
     "output_type": "stream",
     "text": [
      "Apple\n",
      "Pizza\n",
      "Burger\n",
      "h\n",
      "s\n",
      "4\n",
      "0\n",
      "True\n",
      "False\n"
     ]
    }
   ],
   "source": [
    "#Lists\n",
    "\n",
    "\n",
    "\n",
    "mylist = [\"Apple\", \"Pizza\", \"Burger\", \"h\", \"s\", 4, 0, True, False]\n",
    "\n",
    "\n",
    "\n",
    "for i in range(len(mylist)):\n",
    "    print(mylist[i])"
   ]
  },
  {
   "cell_type": "code",
   "execution_count": 49,
   "metadata": {},
   "outputs": [
    {
     "name": "stdout",
     "output_type": "stream",
     "text": [
      "Apple\n",
      "Pizza\n",
      "Burger\n",
      "h\n",
      "s\n",
      "4\n",
      "0\n",
      "True\n",
      "False\n"
     ]
    }
   ],
   "source": [
    "mylist = [\"Apple\", \"Pizza\", \"Burger\", \"h\", \"s\", 4, 0, True, False]\n",
    "\n",
    "for word in mylist:\n",
    "    print(word)"
   ]
  },
  {
   "cell_type": "code",
   "execution_count": 50,
   "metadata": {},
   "outputs": [
    {
     "name": "stdout",
     "output_type": "stream",
     "text": [
      "total is less than 25, it is 0 right now\n",
      "total is less than 25, it is 1 right now\n",
      "total is less than 25, it is 2 right now\n",
      "total is less than 25, it is 3 right now\n",
      "total is less than 25, it is 4 right now\n",
      "total is less than 25, it is 5 right now\n",
      "total is less than 25, it is 6 right now\n",
      "total is less than 25, it is 7 right now\n",
      "total is less than 25, it is 8 right now\n",
      "total is less than 25, it is 9 right now\n",
      "total is less than 25, it is 10 right now\n",
      "total is less than 25, it is 11 right now\n",
      "total is less than 25, it is 12 right now\n",
      "total is less than 25, it is 13 right now\n",
      "total is less than 25, it is 14 right now\n",
      "total is less than 25, it is 15 right now\n",
      "total is less than 25, it is 16 right now\n",
      "total is less than 25, it is 17 right now\n",
      "total is less than 25, it is 18 right now\n",
      "total is less than 25, it is 19 right now\n",
      "total is less than 25, it is 20 right now\n",
      "total is less than 25, it is 21 right now\n",
      "total is less than 25, it is 22 right now\n",
      "total is less than 25, it is 23 right now\n",
      "total is less than 25, it is 24 right now\n"
     ]
    }
   ],
   "source": [
    "#while\n",
    "\n",
    "total = 0\n",
    "\n",
    "while total < 25:\n",
    "    print(f\"total is less than 25, it is {total} right now\")\n",
    "    total += 1\n",
    "\n",
    "\n"
   ]
  },
  {
   "cell_type": "code",
   "execution_count": 51,
   "metadata": {},
   "outputs": [
    {
     "name": "stdout",
     "output_type": "stream",
     "text": [
      "Accesss Granted\n"
     ]
    }
   ],
   "source": [
    "password = \"\"\n",
    "\n",
    "while password != \"python123\":\n",
    "    password = input(\"whats the pass?: \")\n",
    "\n",
    "print(\"Accesss Granted\")"
   ]
  },
  {
   "cell_type": "code",
   "execution_count": null,
   "metadata": {},
   "outputs": [],
   "source": []
  },
  {
   "cell_type": "code",
   "execution_count": 59,
   "metadata": {},
   "outputs": [
    {
     "name": "stdout",
     "output_type": "stream",
     "text": [
      "21\n"
     ]
    }
   ],
   "source": [
    "#print numbers from 1 to 10, using while loop\n",
    "\n",
    "i = 0\n",
    "total = 0 \n",
    "\n",
    "while i <= 6:\n",
    "    # print(i)\n",
    "    total += i\n",
    "    i+=1\n",
    "\n",
    "print(total)\n",
    "\n"
   ]
  },
  {
   "cell_type": "code",
   "execution_count": 81,
   "metadata": {},
   "outputs": [
    {
     "name": "stdout",
     "output_type": "stream",
     "text": [
      "55\n"
     ]
    }
   ],
   "source": [
    "#print numbers from 1 to 10, using while loop\n",
    "def print1ton(n):\n",
    "    i = 0\n",
    "    total = 0 \n",
    "\n",
    "    while i <= n:\n",
    "        # print(i)\n",
    "        total += i\n",
    "        i+=1\n",
    "\n",
    "    print(total)\n",
    "\n",
    "\n",
    "print1ton(10)\n",
    "\n"
   ]
  },
  {
   "cell_type": "code",
   "execution_count": 62,
   "metadata": {},
   "outputs": [
    {
     "name": "stdout",
     "output_type": "stream",
     "text": [
      "0\n",
      "2\n",
      "4\n",
      "6\n",
      "8\n",
      "10\n"
     ]
    }
   ],
   "source": [
    "#print even numbers from 1 to 10, using while loop\n",
    "\n",
    "i = 0\n",
    "\n",
    "\n",
    "while i <= 10:\n",
    "    print(i)\n",
    "    i = i + 2\n",
    "    \n",
    "    \n",
    "    \n",
    "\n",
    "\n",
    "\n"
   ]
  },
  {
   "cell_type": "code",
   "execution_count": 71,
   "metadata": {},
   "outputs": [
    {
     "data": {
      "text/plain": [
       "720"
      ]
     },
     "execution_count": 71,
     "metadata": {},
     "output_type": "execute_result"
    }
   ],
   "source": [
    "#factotrrial usign while loop 7!.\n",
    "\n",
    "def factorial(n):\n",
    "    i = 1\n",
    "    total = 1\n",
    "\n",
    "    while i <= n:\n",
    "        # print(i)\n",
    "        total = total * i\n",
    "        i+=1\n",
    "\n",
    "    return total\n",
    "\n",
    "\n",
    "factorial(6)\n"
   ]
  },
  {
   "cell_type": "code",
   "execution_count": 68,
   "metadata": {},
   "outputs": [
    {
     "data": {
      "text/plain": [
       "18"
      ]
     },
     "execution_count": 68,
     "metadata": {},
     "output_type": "execute_result"
    }
   ],
   "source": [
    "def multiply(a,b):\n",
    "    return a*b\n",
    "\n",
    "def addition(a,b,c):\n",
    "    return a + b + c\n",
    "\n",
    "\n",
    "multiply(5,6)\n",
    "\n",
    "addition(5,6,7)"
   ]
  },
  {
   "cell_type": "code",
   "execution_count": 79,
   "metadata": {},
   "outputs": [
    {
     "name": "stdout",
     "output_type": "stream",
     "text": [
      "even\n"
     ]
    }
   ],
   "source": [
    "def even_or_odd(n):\n",
    "    if n%2 == 0:\n",
    "        print(\"even\")\n",
    "    else:\n",
    "        print(\"odd\")\n",
    "\n",
    "even_or_odd(56)"
   ]
  },
  {
   "cell_type": "code",
   "execution_count": 83,
   "metadata": {},
   "outputs": [
    {
     "data": {
      "text/plain": [
       "120"
      ]
     },
     "execution_count": 83,
     "metadata": {},
     "output_type": "execute_result"
    }
   ],
   "source": [
    "#recursion\n",
    "\n",
    "def factorial2(n):\n",
    "    if n == 0:\n",
    "        return 1\n",
    "    \n",
    "    return n * factorial2(n-1)\n",
    "\n",
    "5 + factorial2(7)"
   ]
  },
  {
   "cell_type": "code",
   "execution_count": 92,
   "metadata": {},
   "outputs": [
    {
     "name": "stdout",
     "output_type": "stream",
     "text": [
      "143\n"
     ]
    }
   ],
   "source": [
    "def fibonacci(n):\n",
    "\n",
    "    if n == 0:\n",
    "        return 0\n",
    "    if n == 1:\n",
    "        return 1\n",
    "    \n",
    "    return fibonacci(n-1) +  fibonacci(n-2)\n",
    "\n",
    "total = 0\n",
    "for i in range(11):\n",
    "    total += fibonacci(i)\n",
    "\n",
    "print(total)"
   ]
  },
  {
   "cell_type": "code",
   "execution_count": null,
   "metadata": {},
   "outputs": [],
   "source": []
  }
 ],
 "metadata": {
  "kernelspec": {
   "display_name": "Python 3",
   "language": "python",
   "name": "python3"
  },
  "language_info": {
   "codemirror_mode": {
    "name": "ipython",
    "version": 3
   },
   "file_extension": ".py",
   "mimetype": "text/x-python",
   "name": "python",
   "nbconvert_exporter": "python",
   "pygments_lexer": "ipython3",
   "version": "3.10.11"
  }
 },
 "nbformat": 4,
 "nbformat_minor": 2
}
