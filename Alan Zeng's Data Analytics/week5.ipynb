{
 "cells": [
  {
   "cell_type": "code",
   "execution_count": 3,
   "metadata": {},
   "outputs": [
    {
     "ename": "ModuleNotFoundError",
     "evalue": "No module named 'numpy'",
     "output_type": "error",
     "traceback": [
      "\u001b[31m---------------------------------------------------------------------------\u001b[39m",
      "\u001b[31mModuleNotFoundError\u001b[39m                       Traceback (most recent call last)",
      "\u001b[36mCell\u001b[39m\u001b[36m \u001b[39m\u001b[32mIn[3]\u001b[39m\u001b[32m, line 1\u001b[39m\n\u001b[32m----> \u001b[39m\u001b[32m1\u001b[39m \u001b[38;5;28;01mimport\u001b[39;00m\u001b[38;5;250m \u001b[39m\u001b[34;01mnumpy\u001b[39;00m\u001b[38;5;250m \u001b[39m\u001b[38;5;28;01mas\u001b[39;00m\u001b[38;5;250m \u001b[39m\u001b[34;01mnp\u001b[39;00m\n\u001b[32m      2\u001b[39m \u001b[38;5;28;01mimport\u001b[39;00m\u001b[38;5;250m \u001b[39m\u001b[34;01mpandas\u001b[39;00m\u001b[38;5;250m \u001b[39m\u001b[38;5;28;01mas\u001b[39;00m\u001b[38;5;250m \u001b[39m\u001b[34;01mpd\u001b[39;00m\n\u001b[32m      3\u001b[39m \u001b[38;5;28;01mimport\u001b[39;00m\u001b[38;5;250m \u001b[39m\u001b[34;01mmatplotlib\u001b[39;00m\u001b[34;01m.\u001b[39;00m\u001b[34;01mpyplot\u001b[39;00m\u001b[38;5;250m \u001b[39m\u001b[38;5;28;01mas\u001b[39;00m\u001b[38;5;250m \u001b[39m\u001b[34;01mplt\u001b[39;00m\n",
      "\u001b[31mModuleNotFoundError\u001b[39m: No module named 'numpy'"
     ]
    }
   ],
   "source": [
    "import numpy as np\n",
    "import pandas as pd\n",
    "import matplotlib.pyplot as plt"
   ]
  },
  {
   "cell_type": "code",
   "execution_count": 2,
   "metadata": {},
   "outputs": [
    {
     "ename": "NameError",
     "evalue": "name 'np' is not defined",
     "output_type": "error",
     "traceback": [
      "\u001b[31m---------------------------------------------------------------------------\u001b[39m",
      "\u001b[31mNameError\u001b[39m                                 Traceback (most recent call last)",
      "\u001b[36mCell\u001b[39m\u001b[36m \u001b[39m\u001b[32mIn[2]\u001b[39m\u001b[32m, line 1\u001b[39m\n\u001b[32m----> \u001b[39m\u001b[32m1\u001b[39m \u001b[43mnp\u001b[49m.random.seed(\u001b[32m42\u001b[39m)\n\u001b[32m      2\u001b[39m n_samples = \u001b[32m100\u001b[39m\n\u001b[32m      4\u001b[39m \u001b[38;5;66;03m#features, random data\u001b[39;00m\n",
      "\u001b[31mNameError\u001b[39m: name 'np' is not defined"
     ]
    }
   ],
   "source": [
    "np.random.seed(42)\n",
    "n_samples = 100\n",
    "\n",
    "#features, random data\n",
    "\n",
    "TV = np.random.uniform(50, 300, n_samples)\n",
    "radio = np.random.uniform(10,100, n_samples)\n",
    "social_media = np.random.uniform(5,50, n_samples)\n",
    "\n"
   ]
  },
  {
   "cell_type": "code",
   "execution_count": 3,
   "metadata": {},
   "outputs": [
    {
     "name": "stdout",
     "output_type": "stream",
     "text": [
      "[138.22834542 271.62890954 239.49543987 218.16418593 120.64768412\n",
      "  99.14938779  81.02940146 284.01659787 177.22122728 199.29497497\n",
      "  84.72125626 273.18605705 265.99071432 138.28894595 127.93376267\n",
      " 132.9093442  178.79417907 181.65352058 183.24839424 160.51344462\n",
      " 248.57168334 146.78452108 114.17202706 131.8369952  172.27183908\n",
      " 228.81617839 154.18139056 214.879499   174.1316526   97.29555477\n",
      " 174.86644375  95.14037085  77.24556936 254.67948375 315.503424\n",
      " 227.08411773 140.82742943 111.6331179  232.10921272 181.03910388\n",
      " 153.20762931 178.1119924   88.7647063  260.22968634 121.8366443\n",
      " 193.52648385 154.2371961  192.85497558 178.76595158 122.65473457\n",
      " 315.2985116  213.28357112 281.04479022 242.65348821 226.07542141\n",
      " 263.34582077 121.9418281  135.99343877  79.99248845 153.2716223\n",
      " 152.5046971  162.77606915 257.91939528 152.85085263 134.40308475\n",
      " 219.21892294 115.5453022  238.79121927  66.17516681 280.14728575\n",
      " 261.93674105 110.17911255  92.75390893 241.32507884 248.39057079\n",
      " 208.57197686 260.31266592  94.94522559 182.07630591 104.83091245\n",
      " 263.80750374 195.98522649 186.73821829 114.06678974 143.25162386\n",
      " 150.55835602 252.07847125 216.01661012 263.3819463  173.93082801\n",
      "  73.67594519 265.02668168 254.32451856 191.66360574 238.29747036\n",
      " 185.08334725 212.88428367 195.64919667 113.77304595 108.37121194]\n"
     ]
    },
    {
     "data": {
      "text/plain": [
       "<matplotlib.collections.PathCollection at 0x11d0c7e20>"
      ]
     },
     "execution_count": 3,
     "metadata": {},
     "output_type": "execute_result"
    },
    {
     "data": {
      "image/png": "[encoded data removed]",
      "text/plain": [
       "<Figure size 640x480 with 1 Axes>"
      ]
     },
     "metadata": {},
     "output_type": "display_data"
    }
   ],
   "source": [
    "sales = 5 + 0.8*(TV) +0.6*radio + 0.3*social_media + np.random.normal(0,10,n_samples)\n",
    "\n",
    "print(sales)\n",
    "\n",
    "#sales vs TV\n",
    "plt.scatter(sales, TV)"
   ]
  },
  {
   "cell_type": "code",
   "execution_count": null,
   "metadata": {},
   "outputs": [],
   "source": []
  },
  {
   "cell_type": "code",
   "execution_count": 4,
   "metadata": {},
   "outputs": [
    {
     "name": "stdout",
     "output_type": "stream",
     "text": [
      "            TV      Radio  Social Media       Sales\n",
      "0   143.635030  12.828627     33.891424  138.228345\n",
      "1   287.678577  67.276937      8.786298  271.628910\n",
      "2   232.998485  38.292038     12.273292  239.495440\n",
      "3   199.664621  55.771362     45.434938  218.164186\n",
      "4    89.004660  91.680983     32.289308  120.647684\n",
      "..         ...        ...           ...         ...\n",
      "95  173.448899  41.428862     28.500947  185.083347\n",
      "96  180.683207  75.336011     39.649710  212.884284\n",
      "97  156.885255  90.739923     14.711946  195.649197\n",
      "98   56.354782  89.837778     33.030071  113.773046\n",
      "99   76.972857  80.188799      8.840636  108.371212\n",
      "\n",
      "[100 rows x 4 columns]\n"
     ]
    }
   ],
   "source": [
    " "
   ]
  },
  {
   "cell_type": "code",
   "execution_count": 5,
   "metadata": {},
   "outputs": [],
   "source": [
    "from sklearn.model_selection import train_test_split\n",
    "X = data[[\"TV\", \"Radio\", \"Social Media\"]]\n",
    "Y = data[\"Sales\"]\n",
    "X_train, X_test, Y_train, Y_test = train_test_split(X, Y, test_size=0.05, random_state=42)"
   ]
  },
  {
   "cell_type": "code",
   "execution_count": 6,
   "metadata": {},
   "outputs": [
    {
     "name": "stdout",
     "output_type": "stream",
     "text": [
      "            TV      Radio  Social Media\n",
      "0   143.635030  12.828627     33.891424\n",
      "1   287.678577  67.276937      8.786298\n",
      "2   232.998485  38.292038     12.273292\n",
      "3   199.664621  55.771362     45.434938\n",
      "4    89.004660  91.680983     32.289308\n",
      "..         ...        ...           ...\n",
      "95  173.448899  41.428862     28.500947\n",
      "96  180.683207  75.336011     39.649710\n",
      "97  156.885255  90.739923     14.711946\n",
      "98   56.354782  89.837778     33.030071\n",
      "99   76.972857  80.188799      8.840636\n",
      "\n",
      "[100 rows x 3 columns]\n"
     ]
    }
   ],
   "source": [
    "print(X)"
   ]
  },
  {
   "cell_type": "code",
   "execution_count": 7,
   "metadata": {},
   "outputs": [],
   "source": [
    "# X_train = X_train.reshape(-1,1)\n",
    "# type(X_train)\n",
    "# X_test = X_test.reshape(-1,1)"
   ]
  },
  {
   "cell_type": "code",
   "execution_count": 8,
   "metadata": {},
   "outputs": [
    {
     "name": "stdout",
     "output_type": "stream",
     "text": [
      "            TV      Radio  Social Media\n",
      "39  160.038123  97.460387     12.969981\n",
      "22  123.036162  38.620313      9.215365\n",
      "80  265.775856  40.695972     45.050240\n",
      "10   55.146124  36.077631     29.693021\n",
      "0   143.635030  12.828627     33.891424\n",
      "..         ...        ...           ...\n",
      "60  147.169322  43.100482     32.675325\n",
      "71   99.678920  11.492905     41.455103\n",
      "14   95.456242  67.006338     37.048065\n",
      "92  240.196262  91.037625     42.017025\n",
      "51  243.783206  31.560570     22.329398\n",
      "\n",
      "[95 rows x 3 columns]\n"
     ]
    }
   ],
   "source": [
    "print(X_train)"
   ]
  },
  {
   "cell_type": "code",
   "execution_count": 9,
   "metadata": {},
   "outputs": [],
   "source": [
    "from sklearn.linear_model import LinearRegression\n",
    "\n",
    "lr_model = LinearRegression()\n",
    "lr_model.fit(X_train, Y_train)\n",
    "y_pred = lr_model.predict(X_test)"
   ]
  },
  {
   "cell_type": "code",
   "execution_count": 10,
   "metadata": {},
   "outputs": [],
   "source": [
    "#can graph only if i have one predictor\n",
    "\n",
    "# plt.scatter(X_test, Y_test)\n",
    "# plt.plot(X_test, y_pred)"
   ]
  },
  {
   "cell_type": "code",
   "execution_count": 11,
   "metadata": {},
   "outputs": [
    {
     "name": "stdout",
     "output_type": "stream",
     "text": [
      "119.69457810034672\n",
      "R² Score: 0.9673\n"
     ]
    }
   ],
   "source": [
    "from sklearn.metrics import mean_squared_error, root_mean_squared_error, r2_score\n",
    "\n",
    "mse = mean_squared_error(Y_test, y_pred)\n",
    "rmse = np.sqrt(mse)\n",
    "r2 = r2_score(Y_test, y_pred)\n",
    "\n",
    "print(mse)\n",
    "print(f\"R² Score: {r2:.4f}\")\n"
   ]
  },
  {
   "cell_type": "code",
   "execution_count": 12,
   "metadata": {},
   "outputs": [
    {
     "name": "stdout",
     "output_type": "stream",
     "text": [
      "Cross-Validation R² Scores: [0.96159183 0.97740255 0.97169274 0.99064247 0.96220552]\n",
      "Mean R² Score: 0.9727\n"
     ]
    }
   ],
   "source": [
    "from sklearn.model_selection import cross_val_score\n",
    "\n",
    "cv_scores = cross_val_score(lr_model, X_train, Y_train, cv=5, scoring=\"r2\")\n",
    "print(f\"Cross-Validation R² Scores: {cv_scores}\")\n",
    "print(f\"Mean R² Score: {cv_scores.mean():.4f}\")\n"
   ]
  },
  {
   "cell_type": "code",
   "execution_count": 2,
   "metadata": {},
   "outputs": [
    {
     "name": "stdout",
     "output_type": "stream",
     "text": [
      "Collecting graphviz\n",
      "  Downloading graphviz-0.21-py3-none-any.whl.metadata (12 kB)\n",
      "Downloading graphviz-0.21-py3-none-any.whl (47 kB)\n",
      "Installing collected packages: graphviz\n",
      "Successfully installed graphviz-0.21\n",
      "\n",
      "\u001b[1m[\u001b[0m\u001b[34;49mnotice\u001b[0m\u001b[1;39;49m]\u001b[0m\u001b[39;49m A new release of pip is available: \u001b[0m\u001b[31;49m25.0.1\u001b[0m\u001b[39;49m -> \u001b[0m\u001b[32;49m25.1.1\u001b[0m\n",
      "\u001b[1m[\u001b[0m\u001b[34;49mnotice\u001b[0m\u001b[1;39;49m]\u001b[0m\u001b[39;49m To update, run: \u001b[0m\u001b[32;49mpip install --upgrade pip\u001b[0m\n"
     ]
    }
   ],
   "source": [
    "!pip3 install graphviz"
   ]
  },
  {
   "cell_type": "code",
   "execution_count": 5,
   "metadata": {},
   "outputs": [
    {
     "data": {
      "text/plain": [
       "'homies_architecture_simple.png'"
      ]
     },
     "execution_count": 5,
     "metadata": {},
     "output_type": "execute_result"
    }
   ],
   "source": [
    "from graphviz import Digraph\n",
    "\n",
    "# Create a directed graph\n",
    "dot = Digraph(comment=\"Homies Architecture Diagram\")\n",
    "\n",
    "# Frontend\n",
    "dot.node('FE', 'Frontend\\n(Next.js + Tailwind)', shape='box', style='filled', fillcolor='lightblue')\n",
    "\n",
    "# Backend\n",
    "dot.node('BE', 'Backend API\\n(Spring Boot - Java)', shape='box', style='filled', fillcolor='lightgreen')\n",
    "\n",
    "# AI Microservice\n",
    "dot.node('AI', 'AI Microservice\\n(FastAPI - Python)', shape='box', style='filled', fillcolor='lightyellow')\n",
    "\n",
    "# Database\n",
    "dot.node('DB', 'Database\\n(PostgreSQL)', shape='cylinder', style='filled', fillcolor='lightgray')\n",
    "\n",
    "# Docker\n",
    "dot.node('DO', 'Docker\\n(Containers)', shape='ellipse', style='filled', fillcolor='white')\n",
    "\n",
    "# Connections\n",
    "dot.edges([('FE', 'BE'), ('BE', 'DB'), ('BE', 'AI')])\n",
    "dot.edge('BE', 'DO', label='Containerized')\n",
    "dot.edge('AI', 'DO', label='Containerized')\n",
    "dot.edge('DB', 'DO', label='Containerized')\n",
    "\n",
    "# Render\n",
    "dot.format = 'png'\n",
    "# Re-render the diagram to a different location (current directory) due to read-only file system on /mnt\n",
    "file_path_local = 'homies_architecture_simple'\n",
    "dot.render(file_path_local, format='png')\n",
    "\n",
    "file_path_local + '.png'\n",
    "\n"
   ]
  }
 ],
 "metadata": {
  "kernelspec": {
   "display_name": "Python 3",
   "language": "python",
   "name": "python3"
  },
  "language_info": {
   "codemirror_mode": {
    "name": "ipython",
    "version": 3
   },
   "file_extension": ".py",
   "mimetype": "text/x-python",
   "name": "python",
   "nbconvert_exporter": "python",
   "pygments_lexer": "ipython3",
   "version": "3.10.11"
  }
 },
 "nbformat": 4,
 "nbformat_minor": 2
}
