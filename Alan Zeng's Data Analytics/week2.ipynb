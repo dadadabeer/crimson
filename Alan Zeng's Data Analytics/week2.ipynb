{
 "cells": [
  {
   "cell_type": "code",
   "execution_count": 7,
   "metadata": {},
   "outputs": [
    {
     "name": "stdout",
     "output_type": "stream",
     "text": [
      "Your number is lesser than 25\n"
     ]
    }
   ],
   "source": [
    "# Conditionals (If - else - elif)\n",
    "\n",
    "x = int(input(\"whats your x: \"))\n",
    "\n",
    "if x > 25:\n",
    "    print(\"Your number is greater than 25\")\n",
    "elif x < 25:\n",
    "    print(\"Your number is lesser than 25\")\n",
    "else:\n",
    "    print(\"Your number is 25\")"
   ]
  },
  {
   "cell_type": "code",
   "execution_count": 10,
   "metadata": {},
   "outputs": [
    {
     "name": "stdout",
     "output_type": "stream",
     "text": [
      "your number is even\n"
     ]
    }
   ],
   "source": [
    "# Can you program an algorithm that takes in a number and tells you if its even or odd (assume integer input)\n",
    "even_or_odd_num = int(input(\"what is your number: \"))\n",
    "if (even_or_odd_num %2) == 0:\n",
    "    print (\"your number is even\")\n",
    "else:\n",
    "    print (\"your number is odd\")\n"
   ]
  },
  {
   "cell_type": "code",
   "execution_count": 14,
   "metadata": {},
   "outputs": [
    {
     "name": "stdout",
     "output_type": "stream",
     "text": [
      "it is cold outside\n",
      "wear a jacket\n"
     ]
    }
   ],
   "source": [
    "temp = int(input(\"Temperature please?: \"))\n",
    "if temp > 30:\n",
    "    print(\"it is hot outside\")\n",
    "    if temp > 40:\n",
    "        print(\"wear comfy clothes\")\n",
    "elif temp > 20:\n",
    "    print(\"its moderate\")\n",
    "else:\n",
    "    print(\"it is cold outside\")\n",
    "    if temp < 10:\n",
    "        print(\"wear a jacket\")"
   ]
  },
  {
   "cell_type": "code",
   "execution_count": 18,
   "metadata": {},
   "outputs": [
    {
     "name": "stdout",
     "output_type": "stream",
     "text": [
      "Moderate temp\n"
     ]
    }
   ],
   "source": [
    "temp = int(input(\"Temperature please?: \"))\n",
    "\n",
    "if temp < 10 or temp > 30:\n",
    "    print(\"temp is not moderate\")\n",
    "else:\n",
    "    print(\"Moderate temp\")\n"
   ]
  },
  {
   "cell_type": "code",
   "execution_count": 38,
   "metadata": {},
   "outputs": [
    {
     "name": "stdout",
     "output_type": "stream",
     "text": [
      "Hello, the final prod is 720\n"
     ]
    }
   ],
   "source": [
    "#for loops\n",
    "\n",
    "# for i in range(7):\n",
    "#     print(i)\n",
    "\n",
    "#sum of first n numbers\n",
    "    \n",
    "n = int(input(\"n? \"))  # Get user input\n",
    "sum = 0  # Initialize sum variable\n",
    "\n",
    "for i in range(n+1): \n",
    "    sum = sum + i\n",
    "print(sum)\n",
    "\n"
   ]
  },
  {
   "cell_type": "code",
   "execution_count": 43,
   "metadata": {},
   "outputs": [
    {
     "name": "stdout",
     "output_type": "stream",
     "text": [
      "prime number\n"
     ]
    }
   ],
   "source": [
    "#Checking whether a number is prime\n",
    "\n",
    "n = int(input(\"n? \"))  # Get user input #11\n",
    "is_prime = True\n",
    "\n",
    "for i in range(2, n): #i = 2-10\n",
    "    if n % i == 0:\n",
    "        is_prime = False\n",
    "        break\n",
    "\n",
    "if is_prime and n > 1:\n",
    "    print(\"prime number\")\n",
    "else:\n",
    "    print(\"not a prime\")\n",
    "\n"
   ]
  },
  {
   "cell_type": "code",
   "execution_count": 50,
   "metadata": {},
   "outputs": [
    {
     "name": "stdout",
     "output_type": "stream",
     "text": [
      "5\n",
      "1\n",
      "23\n",
      "4\n",
      "2\n",
      "4\n",
      "10\n"
     ]
    }
   ],
   "source": [
    "mylist = [5,1,23,4,2,4,10]\n",
    "\n",
    "for i in range(len(mylist)):\n",
    "    print(mylist[i])\n"
   ]
  },
  {
   "cell_type": "code",
   "execution_count": 52,
   "metadata": {},
   "outputs": [
    {
     "name": "stdout",
     "output_type": "stream",
     "text": [
      "abc\n",
      "hello\n",
      "world\n",
      "bye\n"
     ]
    }
   ],
   "source": [
    "words = [\"abc\", \"hello\", \"world\", \"bye\"]\n",
    "\n",
    "for word in words:\n",
    "    print(word)"
   ]
  },
  {
   "cell_type": "code",
   "execution_count": 53,
   "metadata": {},
   "outputs": [
    {
     "name": "stdout",
     "output_type": "stream",
     "text": [
      "hello\n",
      "hello\n",
      "hello\n",
      "hello\n",
      "hello\n",
      "hello\n",
      "hello\n",
      "hello\n",
      "hello\n",
      "hello\n"
     ]
    }
   ],
   "source": [
    "#while loops\n",
    "\n",
    "x = int(input(\"x: \"))\n",
    "while x > 25:\n",
    "    print(\"hello\")\n",
    "    x = x - 1\n"
   ]
  },
  {
   "cell_type": "code",
   "execution_count": 54,
   "metadata": {},
   "outputs": [
    {
     "name": "stdout",
     "output_type": "stream",
     "text": [
      "Access Granted\n"
     ]
    }
   ],
   "source": [
    "password = \"\"\n",
    "while password != \"python123\":\n",
    "    password = input(\"password?: \")\n",
    "\n",
    "print(\"Access Granted\")"
   ]
  },
  {
   "cell_type": "code",
   "execution_count": 59,
   "metadata": {},
   "outputs": [
    {
     "name": "stdout",
     "output_type": "stream",
     "text": [
      "720\n"
     ]
    }
   ],
   "source": [
    "#sum of first n numbers using while loop\n",
    "\n",
    "n = int(input(\"N? \")) #5\n",
    "sum = 0\n",
    "i = 0\n",
    "\n",
    "while i <= n:\n",
    "    sum = sum + i\n",
    "    i = i + 1\n",
    "\n",
    "print(sum)\n"
   ]
  },
  {
   "cell_type": "code",
   "execution_count": 62,
   "metadata": {},
   "outputs": [
    {
     "name": "stdout",
     "output_type": "stream",
     "text": [
      "5\n",
      "4\n",
      "3\n",
      "2\n",
      "1\n"
     ]
    }
   ],
   "source": [
    "mylist = [5,1,23,4,2,4,10]\n",
    "\n",
    "# for i in range(len(mylist)):\n",
    "#     print(mylist[i])\n",
    "\n",
    "mylist = [5,4,3,2,1]\n",
    "i = 0\n",
    "while i < len(mylist):\n",
    "    print(mylist[i]) \n",
    "    i+=1\n",
    "\n",
    "\n",
    "\n"
   ]
  },
  {
   "cell_type": "code",
   "execution_count": 92,
   "metadata": {},
   "outputs": [
    {
     "name": "stdout",
     "output_type": "stream",
     "text": [
      "0\n",
      "1\n",
      "1\n",
      "2\n",
      "3\n",
      "5\n",
      "8\n",
      "13\n",
      "21\n",
      "34\n",
      "55\n",
      "89\n",
      "144\n",
      "233\n",
      "377\n"
     ]
    }
   ],
   "source": [
    "# def sum(x,y):\n",
    "#     print(x+y)\n",
    "\n",
    "# sum(2,3)\n",
    "\n",
    "# def product(x,y,z):\n",
    "#     print(x*y*z)\n",
    "\n",
    "# # a = int(input(\"a: \"))\n",
    "# # b = int(input(\"b: \"))\n",
    "# # c = int(input(\"c: \"))\n",
    "\n",
    "\n",
    "\n",
    "# # product(a,b,c)\n",
    "\n",
    "# #define a function that takes in an argument n, and gives you the sum of the first n numbers:\n",
    "\n",
    "# def factorial(n):\n",
    "#     prod = 1  # Initialize sum variable\n",
    "\n",
    "#     for i in range(1, n+1): \n",
    "#         prod = prod * i\n",
    "#     print(prod)\n",
    "\n",
    "# num = int(input(\"gimme an n\"))\n",
    "# factorial(num)\n",
    "\n",
    "\n",
    "def factorial(n):\n",
    "    if n == 0 or n == 1:\n",
    "        return 1\n",
    "    else:\n",
    "        return n * factorial(n-1)\n",
    "    \n",
    "# factorial(7)\n",
    "\n",
    "\n",
    "#0 1 1 2 3 5 8 13 21\n",
    "\n",
    "def fibonacci(n):\n",
    "    if n == 0:\n",
    "        return 0\n",
    "    if n == 1:\n",
    "        return 1\n",
    "    else:\n",
    "        return fibonacci(n-1)+ fibonacci(n-2)\n",
    "\n",
    "for i in range(15):\n",
    "    print(fibonacci(i))\n"
   ]
  },
  {
   "cell_type": "code",
   "execution_count": null,
   "metadata": {},
   "outputs": [],
   "source": []
  }
 ],
 "metadata": {
  "kernelspec": {
   "display_name": "Python 3",
   "language": "python",
   "name": "python3"
  },
  "language_info": {
   "codemirror_mode": {
    "name": "ipython",
    "version": 3
   },
   "file_extension": ".py",
   "mimetype": "text/x-python",
   "name": "python",
   "nbconvert_exporter": "python",
   "pygments_lexer": "ipython3",
   "version": "3.10.11"
  }
 },
 "nbformat": 4,
 "nbformat_minor": 2
}
